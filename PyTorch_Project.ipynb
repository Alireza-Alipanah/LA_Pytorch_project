{
 "cells": [
  {
   "cell_type": "markdown",
   "metadata": {
    "id": "v2qUM9rYj2L5"
   },
   "source": [
    "<div style=\"direction:rtl;line-height:300%;\">\n",
    "<font face=\"XB Zar\" size=5>\n",
    "<div align=center>\n",
    "    <font size=6>\n",
    "    باسمه تعالی\n",
    "    </font>\n",
    "    <br><br>\n",
    "    <font>\n",
    "    درس جبر خطی\n",
    "    <br>\n",
    "        <font size=3>\n",
    "            مدرس: حمیدرضا ربیعی، مریم رمضانی\n",
    "        </font>\n",
    "    </font>\n",
    "    <br><br>\n",
    "    <font>\n",
    "        <b> PyTorch پروژه</b>\n",
    "    </font>\n",
    "    <br>\n",
    "    <font size=3>\n",
    "     موعد تحویل: ۱۵ بهمن ۱۴۰۰ ساعت ۲۳:۵۹\n",
    "    </font>\n",
    "    <br>\n",
    "    <font size=4>\n",
    "    دستیاران آموزشی:\n",
    "        پویا اسمعیلی،\n",
    "        علی بالاپور\n",
    "    </font>\n",
    "    <br>\n",
    "        <font size=2>\n",
    "        دانشگاه صنعتی شریف\n",
    "        <br>\n",
    "        دانشکده مهندسی کامپیوتر\n",
    "    </font>\n",
    "</div>\n",
    "</font>\n",
    "</div>"
   ]
  },
  {
   "cell_type": "markdown",
   "metadata": {
    "id": "Ie0Z27UOj2MH"
   },
   "source": [
    "<div align= \"justify\" dir=\"rtl\">\n",
    "<font face=\"Calibri\" size=4>\n",
    "    <h1>مقدمه</h1>\n",
    "    هدف این پروژه تعمیق مفاهیم تدریس شده در کلاس درس  و آشنایی دانشجویان با کاربردهای جبرخطی است. برای انجام این پروژه، نکات زیر را در نظر داشته باشید:\n",
    "    <ul>\n",
    "        <li>یکی از اهداف این پروژه آشنایی بیشتر دانشجویان با توابع و مفاهیم PyTorch است. بنابراین پیاده‌سازی خواسته‌های هر سوال حتما باید با استفاده از PyTorch باشد.</li>\n",
    "        <li>انجام این پروژه به صورت انفرادی است.</li>\n",
    "        <li>در مجموع این پروژه 100 نمره بوده که سوال اول 40 نمره و سوال دوم 60 نمره دارد. توجه داشته باشید پیاده‌سازی این پروژه اختیاری بوده و نمره اختصاص شده برابر 0.8 از نمره کل است.</li>\n",
    "        <li>توجه داشته باشید که نمی‌توانید از تاخیر مجاز برای این پروژه استفاده نمایید. (به علت اختیاری بودن پروژه و همچنین نزدیک بودن ددلاین به مهلت ارسال نمرات به آموزش)</li>\n",
    "        <li>پس از ددلاین مشخص شده برای پروژه، یک جلسه کوتاه برای تحویل حضوری پروژه برگزار می‌گردد.</li>\n",
    "        <li>برای راحتی کار، توصیه می‌شود که از google colab استفاده نمایید.</li>\n",
    "        <li>\n",
    "        برای این پروژه لازم است که علاوه بر پیاده‌سازی خواسته سوال، توضیح کوتاهی در مورد نحوه عملکرد کد پیاده‌سازی‌شده نوشته شود.\n",
    "        </li>\n",
    "    </ul>\n",
    "    </font>\n",
    "</div>"
   ]
  },
  {
   "cell_type": "markdown",
   "metadata": {
    "id": "gV_5Tc2fj2MJ"
   },
   "source": [
    "<div align= \"justify\" dir=\"rtl\">\n",
    "<font face=\"Calibri\" size=3>\n",
    "    <h1>الگوریتم PCA </h1>\n",
    "</font>\n",
    "</div>"
   ]
  },
  {
   "cell_type": "markdown",
   "metadata": {
    "id": "WT1F0AZSj2MK"
   },
   "source": [
    "<div align= \"justify\" dir=\"rtl\">\n",
    "<font face=\"Calibri\" size=4>\n",
    "    در این تمرین قصد داریم که با استفاده از فریمورک PyTorch و ابزارهای آن، الگوریتم \n",
    "    <a href='https://en.wikipedia.org/wiki/Principal_component_analysis'>PCA (Principal Component Analysis)</a> را روی دیتاست Iris پیاده‌سازی کنیم.  <br>\n",
    "دیتاستی که در این قسمت در نظر گرفته‌شده، دیتاست iris است. این دیتاست شامل داده‌های سه نوع گل زنبق بوده که بر اساس 4 ویژگی، دسته‌بندی شده‌اند (در جلسات اولیه درس در مورد این دیتاست صحبت کردیم). یکی از اقدامات ابتدایی در یک پروژه مربوط به یادگیری ماشین و علوم داده، \n",
    "    <a href=''https://en.wikipedia.org/wiki/Exploratory_data_analysis>EDA(Exploratory Data Analysis)</a>\n",
    "    است. در EDA قصد داریم تا با رسم نمودارهای مختلف و استفاده از ابزارهای موجود، یک دید کلی نسبت به داده بدست بیاوریم. اما برای رسم ساده‌ترین نمودارها (مانند نمودار scatter) برای داده‌هایی که دارای بیش از دو یا سه ویژگی دارند، ممکن است دشوار باشد. برای همین از الگوریتم‌های کاهش ابعاد استفاده می‌گردد. مشهورترین الگوریتم‌ها برای این کار، PCA و t-SNE می‌باشند. <br>\n",
    "در این تمرین شما باید دیتاست \n",
    "    <a href='https://archive.ics.uci.edu/ml/datasets/iris'>Iris</a>\n",
    "    (که در فایل iris.csv قرار دارد) را به یک تنسور دو بعدی تبدیل نمایید و الگوریتم PCA را با استفاده از توابع محاسباتی و مربوط به جبرخطی پایتورچ، بر روی این تنسور پیاده‌سازی کنید. سپس نتایج به‌دست آمده را با استفاده از کتابخانه‌های مصورسازی پایتون (مانند pyplot) بر روی یک scatter plot (با اعمال برچسب هر داده) رسم کنید. <br>\n",
    "توجه داشته باشید که استفاده از هرگونه کتابخانه برای پیاده‌سازی مستقیم الگوریتم PCA مجاز نیست. \n",
    "</font>\n",
    "</div>"
   ]
  },
  {
   "cell_type": "code",
   "execution_count": 1,
   "metadata": {
    "colab": {
     "base_uri": "https://localhost:8080/"
    },
    "id": "Kf0K30Slj2MM",
    "outputId": "182e5ac5-9d0b-452e-cb5d-5537cd7191ee"
   },
   "outputs": [
    {
     "output_type": "stream",
     "name": "stdout",
     "text": [
      "Drive already mounted at /content/gdrive; to attempt to forcibly remount, call drive.mount(\"/content/gdrive\", force_remount=True).\n"
     ]
    }
   ],
   "source": [
    "import torch\n",
    "import pandas as pd\n",
    "import matplotlib.pyplot as plt\n",
    "from google.colab import drive\n",
    "drive.mount('/content/gdrive')"
   ]
  },
  {
   "cell_type": "markdown",
   "metadata": {
    "id": "Fd_VW1LoAF3O"
   },
   "source": [
    "Reading features from csv file:"
   ]
  },
  {
   "cell_type": "code",
   "execution_count": 2,
   "metadata": {
    "id": "oMA_jOWtALtO"
   },
   "outputs": [],
   "source": [
    "df = pd.read_csv('gdrive/My Drive/Colab Notebooks/Iris.csv')\n",
    "SepalLengthCm = torch.Tensor(df['SepalLengthCm'])\n",
    "SepalWidthCm = torch.Tensor(df['SepalWidthCm'])\n",
    "PetalLengthCm = torch.Tensor(df['PetalLengthCm'])\n",
    "PetalWidthCm = torch.Tensor(df['PetalWidthCm'])"
   ]
  },
  {
   "cell_type": "markdown",
   "metadata": {
    "id": "i1tjhMFTBjYU"
   },
   "source": [
    "Function to whiten vector:"
   ]
  },
  {
   "cell_type": "code",
   "execution_count": 3,
   "metadata": {
    "id": "-4zoEl8WBoOD"
   },
   "outputs": [],
   "source": [
    "def whitening(vec):\n",
    "  mean = torch.mean(vec)\n",
    "  return  vec - mean"
   ]
  },
  {
   "cell_type": "markdown",
   "metadata": {
    "id": "oQV9i48iBKY6"
   },
   "source": [
    "Creating tensor with columns as whitened feature vectors:"
   ]
  },
  {
   "cell_type": "code",
   "execution_count": 4,
   "metadata": {
    "id": "rIzYsW2wBPC8"
   },
   "outputs": [],
   "source": [
    "tensor = torch.stack(list(map(whitening, [SepalLengthCm, SepalWidthCm, PetalLengthCm, PetalWidthCm])))"
   ]
  },
  {
   "cell_type": "markdown",
   "metadata": {
    "id": "hLkjZ_rJCFuL"
   },
   "source": [
    "SVD factorization of features tensor:"
   ]
  },
  {
   "cell_type": "code",
   "execution_count": 5,
   "metadata": {
    "id": "qXWJgxJZCKJS"
   },
   "outputs": [],
   "source": [
    "U, E, V = torch.svd(tensor, some=True)"
   ]
  },
  {
   "cell_type": "markdown",
   "metadata": {
    "id": "sC-1yz_HCRhz"
   },
   "source": [
    "Choosing the 2 biggest PCA components:"
   ]
  },
  {
   "cell_type": "code",
   "execution_count": 6,
   "metadata": {
    "id": "W81ddrfmFI9K"
   },
   "outputs": [],
   "source": [
    "new_tensor = V[:, :2]"
   ]
  },
  {
   "cell_type": "markdown",
   "metadata": {
    "id": "w4RmNw4E3-aN"
   },
   "source": [
    "Getting y and x from new_tensor:"
   ]
  },
  {
   "cell_type": "code",
   "execution_count": 7,
   "metadata": {
    "id": "y1A4iLOg4B7A"
   },
   "outputs": [],
   "source": [
    "y, x = new_tensor[:, 1:], new_tensor[:, :1]"
   ]
  },
  {
   "cell_type": "markdown",
   "metadata": {
    "id": "FBPZUWhqFb2X"
   },
   "source": [
    "Plotting the corresponding rows of each flower:"
   ]
  },
  {
   "cell_type": "code",
   "execution_count": 8,
   "metadata": {
    "colab": {
     "base_uri": "https://localhost:8080/",
     "height": 265
    },
    "id": "TSpOKFlFFnPs",
    "outputId": "07204f55-ec5d-4fbc-f064-7da96e608a3b"
   },
   "outputs": [
    {
     "output_type": "display_data",
     "data": {
      "image/png": "[encoded data removed]",
      "text/plain": [
       "<Figure size 432x288 with 1 Axes>"
      ]
     },
     "metadata": {
      "needs_background": "light"
     }
    }
   ],
   "source": [
    "plt.scatter(x[:50], y[:50], label='Iris-setosa')\n",
    "plt.scatter(x[50:100], y[50:100], label='Iris-versicolor')\n",
    "plt.scatter(x[100:150], y[100:150], label='Iris-virginica')\n",
    "plt.legend()\n",
    "plt.show()"
   ]
  },
  {
   "cell_type": "markdown",
   "metadata": {
    "id": "mtZiqj9ZAFtf"
   },
   "source": []
  },
  {
   "cell_type": "markdown",
   "metadata": {
    "id": "quSZ9Ea-j2MP"
   },
   "source": [
    "<div align= \"justify\" dir=\"rtl\">\n",
    "<font face=\"Calibri\" size=3>\n",
    "    <h1>سیستم توصیه‌گر (Recommender System)</h1>\n",
    "</font>\n",
    "</div>"
   ]
  },
  {
   "cell_type": "markdown",
   "metadata": {
    "id": "SltwmPLRj2MP"
   },
   "source": [
    "<div align= \"justify\" dir=\"rtl\">\n",
    "<font face=\"Calibri\" size=4>\n",
    "در این تمرین قصد داریم که با استفاده از فریمورک PyTorch و ابزارهای آن، یک سیستم توصیه‌گر (یا recommender system) ساده را پیاده‌سازی کنیم.\n",
    "<br> \n",
    "برای پیاده‌سازی این سیستم، شما یک جدول از امتیاز کاربران (از ۱ تا ۵) به فیلم‌ها دارید (در فایل ratings.csv). ستون‌های این جدول، شناسه‌ی کاربر، شناسه‌ی فیلم و امتیاز هستند. برای استفاده از این داده‌ها باید آن‌ها را تبدیل به ماتریسی از امتیاز هر کاربر به هر فیلم کنید. البته باید توجه کنید بیشتر درایه‌های این ماتریس نامشخص (امتیاز صفر) بوده و لازم است به جای ‌ان‌ها یک عدد قرار دهید. در ادامه روش‌های مختلف پر کردن این درایه‌ها توضیح داده می‌شود.\n",
    "<br>\n",
    "برای بررسی عملکرد سیستم، \n",
    "<!-- لازم است ابتدا تعدادی از داده‌های اولیه جدا شوند. بنابراین ۱۰ درصد از سطرهای جدول اولیه را به طور رندوم جدا کرده و از جدول حذف کنید. حال -->\n",
    " سیستم توصیه‌گر شما با یادگیری داده‌ها، امتیازی از طرف هر کاربر به هر فیلم نسبت می‌دهد. اگر این امتیازها را $y$ نامیده و امتیاز‌های حذف شده از جدول اولیه $\\hat{y}$ باشند، خطای سیستم به صورت\n",
    "$$E = \\Sigma_i (y - \\hat{y})^2$$\n",
    "تعریف می‌شود. برای هر یک از راه‌حل‌های خود، این خطا را برای خانه‌هایی که در دیتاست اولیه مقادیر بین ۱ تا ۵ دارند، حساب کنید.\n",
    "<br>\n",
    "در طراحی سیستم می‌توانید از تجزیه‌ی SVD استفاده کنید. برای این کار باید ابتدا درایه‌های نامشخص را پر کنید. برای این کار، روش‌های زیر را امتحان کرده و خطای سیستم در هر حالت را مقایسه کنید. سپس، از بهترین روش در سیستم نهایی خود استفاده کنید.\n",
    "<ol>\n",
    "<li>قرار دادن صفر به جای همه‌ی مقادیر نامشخص</li>\n",
    "<li>قرار دادن میانگین امتیاز هر فیلم در درایه‌های نامشخص آن فیلم</li>\n",
    "<li>استفاده از میانه‌ی امتیازهای هر فیلم در درایه‌های نامشخص آن فیلم</li>\n",
    "</ol>\n",
    "<br> \n",
    "برای این تمرین لازم است که شما با استفاده از مفاهیم تدریس شده در کلاس درس و ابزارهای پایتورچ، این سیستم توصیه گر ساده را پیاده‌سازی کنید و خطای آن را محاسبه کنید. استفاده از ابزارهای pandas و matplotlib در کنار pytorch مجاز بوده و هر گونه استفاده از numpy غیر مجاز است.\n",
    "\n",
    "</font>\n",
    "</div>"
   ]
  },
  {
   "cell_type": "code",
   "execution_count": 9,
   "metadata": {
    "id": "uPfJfQtAj2MU"
   },
   "outputs": [],
   "source": [
    "df = pd.read_csv('gdrive/My Drive/Colab Notebooks/ratings.csv')\n",
    "original_data = torch.Tensor(df.pivot(index='userId', columns='movieId', values='rating').values)\n",
    "zero_values = torch.nan_to_num(original_data)\n",
    "components_to_choose = 30\n",
    "nan_map = torch.where(zero_values != 0, True, False)\n",
    "zero_tensor = torch.scalar_tensor(0)"
   ]
  },
  {
   "cell_type": "markdown",
   "metadata": {
    "id": "fg83C3ZNaIkd"
   },
   "source": [
    "Doing SVD factoriztion on nan=zero and recreating the rating matrix using number of biggest eigenvalues equal to components_to_choose:\n"
   ]
  },
  {
   "cell_type": "code",
   "execution_count": 10,
   "metadata": {
    "colab": {
     "base_uri": "https://localhost:8080/"
    },
    "id": "V8zxsucwab8P",
    "outputId": "1730fa4c-f614-4db2-9c05-c275dd686d43"
   },
   "outputs": [
    {
     "output_type": "stream",
     "name": "stdout",
     "text": [
      "tensor(411753.0625)\n"
     ]
    }
   ],
   "source": [
    "zero_u, zero_e, zero_v = torch.svd(zero_values, some=True)\n",
    "zero_result = zero_u[:, :components_to_choose] @ torch.diag(zero_e)[:components_to_choose, :components_to_choose] @ zero_v.T[:components_to_choose, :]\n",
    "zero_error = torch.linalg.norm(torch.where(nan_map, zero_result - zero_values, zero_tensor)) ** 2\n",
    "print(zero_error)"
   ]
  },
  {
   "cell_type": "markdown",
   "metadata": {
    "id": "JpPzdbP3aeif"
   },
   "source": [
    "Doing SVD factoriztion on nan=avg and recreating the rating matrix using number of biggest eigenvalues equal to components_to_choose:"
   ]
  },
  {
   "cell_type": "code",
   "execution_count": 11,
   "metadata": {
    "colab": {
     "base_uri": "https://localhost:8080/"
    },
    "id": "KuqM9icNahwL",
    "outputId": "20697f00-af38-43f5-dfd5-cb853b5c666c"
   },
   "outputs": [
    {
     "output_type": "stream",
     "name": "stdout",
     "text": [
      "tensor(61486.6094)\n"
     ]
    }
   ],
   "source": [
    "average_vec = torch.nanmean(original_data, dim=0)\n",
    "avg_tensor = torch.where(nan_map, zero_values, average_vec)\n",
    "avg_u, avg_e, avg_v = torch.svd(avg_tensor, some=True)\n",
    "avg_result = avg_u[:, :components_to_choose] @ torch.diag(avg_e)[:components_to_choose, :components_to_choose] @ avg_v.T[:components_to_choose, :]\n",
    "avg_error = torch.linalg.norm(torch.where(nan_map, avg_result - zero_values, zero_tensor)) ** 2\n",
    "print(avg_error)"
   ]
  },
  {
   "cell_type": "markdown",
   "metadata": {
    "id": "C608If7tajtM"
   },
   "source": [
    "Doing SVD factoriztion on nan=median and recreating the rating matrix using number of biggest eigenvalues equal to components_to_choose:"
   ]
  },
  {
   "cell_type": "code",
   "execution_count": 12,
   "metadata": {
    "colab": {
     "base_uri": "https://localhost:8080/"
    },
    "id": "MGS4RGlaaojG",
    "outputId": "64bd1924-6f28-432f-f701-73773d0978b1"
   },
   "outputs": [
    {
     "output_type": "stream",
     "name": "stdout",
     "text": [
      "tensor(66574.6016)\n"
     ]
    }
   ],
   "source": [
    "median_vec = torch.nanmedian(original_data, dim=0)[0]\n",
    "median_tensor = torch.where(nan_map, zero_values, median_vec)\n",
    "median_u, median_e, median_v = torch.svd(median_tensor, some=True)\n",
    "median_result = median_u[:, :components_to_choose] @ torch.diag(median_e)[:components_to_choose, :components_to_choose] @ median_v.T[:components_to_choose, :]\n",
    "median_error = torch.linalg.norm(torch.where(nan_map, median_result - zero_values, zero_tensor)) ** 2\n",
    "print(median_error)"
   ]
  },
  {
   "cell_type": "markdown",
   "metadata": {
    "id": "jfz5_c-zaqYJ"
   },
   "source": [
    "Looking at the results we see that using average gives the best result hence **avg_result** could be used for recommending:"
   ]
  },
  {
   "cell_type": "code",
   "source": [
    "print(avg_result)"
   ],
   "metadata": {
    "colab": {
     "base_uri": "https://localhost:8080/"
    },
    "id": "lhJKoBo3qTNI",
    "outputId": "ac81408d-756f-4579-d0dd-66a74fc0cbfb"
   },
   "execution_count": 13,
   "outputs": [
    {
     "output_type": "stream",
     "name": "stdout",
     "text": [
      "tensor([[4.5080, 3.1524, 3.2768,  ..., 1.9817, 2.9725, 2.9725],\n",
      "        [3.9307, 3.2299, 2.9174,  ..., 1.9956, 2.9934, 2.9934],\n",
      "        [3.6346, 3.2241, 3.1003,  ..., 2.0011, 3.0016, 3.0016],\n",
      "        ...,\n",
      "        [4.2412, 3.2401, 3.0441,  ..., 1.9965, 2.9947, 2.9947],\n",
      "        [4.2471, 3.2710, 2.9570,  ..., 2.0055, 3.0082, 3.0082],\n",
      "        [3.6274, 3.4072, 2.7241,  ..., 2.0063, 3.0095, 3.0095]])\n"
     ]
    }
   ]
  }
 ],
 "metadata": {
  "colab": {
   "collapsed_sections": [],
   "name": "PyTorch Project.ipynb",
   "provenance": []
  },
  "kernelspec": {
   "display_name": "Python 3",
   "language": "python",
   "name": "python3"
  },
  "language_info": {
   "codemirror_mode": {
    "name": "ipython",
    "version": 3
   },
   "file_extension": ".py",
   "mimetype": "text/x-python",
   "name": "python",
   "nbconvert_exporter": "python",
   "pygments_lexer": "ipython3",
   "version": "3.8.3"
  }
 },
 "nbformat": 4,
 "nbformat_minor": 0
}
